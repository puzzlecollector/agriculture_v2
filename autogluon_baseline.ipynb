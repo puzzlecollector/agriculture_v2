{
 "cells": [
  {
   "cell_type": "code",
   "execution_count": 33,
   "id": "a5138f5a-e3b1-4410-8d86-ef8c746c1b2f",
   "metadata": {},
   "outputs": [],
   "source": [
    "import random \n",
    "import pandas as pd \n",
    "import numpy as np \n",
    "import os \n",
    "from sklearn.ensemble import RandomForestRegressor \n",
    "from sklearn.preprocessing import LabelEncoder \n",
    "import warnings \n",
    "warnings.filterwarnings(action=\"ignore\") \n",
    "\n",
    "from autogluon.timeseries import TimeSeriesDataFrame, TimeSeriesPredictor "
   ]
  },
  {
   "cell_type": "code",
   "execution_count": null,
   "id": "9b92811f-3c0e-4d3b-8b9e-dbe7c6c33e02",
   "metadata": {},
   "outputs": [],
   "source": []
  },
  {
   "cell_type": "code",
   "execution_count": 34,
   "id": "213c2d24-ef31-41fd-b678-ea4eaa680fd4",
   "metadata": {},
   "outputs": [],
   "source": [
    "def seed_everything(seed):\n",
    "    random.seed(seed)\n",
    "    os.environ['PYTHONHASHSEED'] = str(seed)\n",
    "    np.random.seed(seed)\n",
    "\n",
    "seed_everything(42) # Seed 고정"
   ]
  },
  {
   "cell_type": "code",
   "execution_count": 35,
   "id": "a0d78b77-b40b-4a71-a0a7-e6075cd4b7ec",
   "metadata": {},
   "outputs": [],
   "source": [
    "train_df = pd.read_csv('train.csv')\n",
    "test_df = pd.read_csv('test.csv')"
   ]
  },
  {
   "cell_type": "code",
   "execution_count": 36,
   "id": "a67425d0-3372-4f20-af30-28527bc42975",
   "metadata": {},
   "outputs": [],
   "source": [
    "train_df[\"item_info\"] = train_df[\"item\"] + \"_\" + train_df[\"corporation\"] + \"_\" + train_df[\"location\"] "
   ]
  },
  {
   "cell_type": "code",
   "execution_count": 37,
   "id": "4d34a4e3-bf26-420f-bb6a-31d5579de9a1",
   "metadata": {},
   "outputs": [],
   "source": [
    "train_df.drop(columns={\"item\", \"corporation\", \"location\", \"supply(kg)\", \"ID\"}, inplace=True)"
   ]
  },
  {
   "cell_type": "code",
   "execution_count": 39,
   "id": "b4d886ee-dd97-48e3-a865-de11d0dc6fe6",
   "metadata": {},
   "outputs": [
    {
     "data": {
      "text/html": [
       "<div>\n",
       "<style scoped>\n",
       "    .dataframe tbody tr th:only-of-type {\n",
       "        vertical-align: middle;\n",
       "    }\n",
       "\n",
       "    .dataframe tbody tr th {\n",
       "        vertical-align: top;\n",
       "    }\n",
       "\n",
       "    .dataframe thead th {\n",
       "        text-align: right;\n",
       "    }\n",
       "</style>\n",
       "<table border=\"1\" class=\"dataframe\">\n",
       "  <thead>\n",
       "    <tr style=\"text-align: right;\">\n",
       "      <th></th>\n",
       "      <th>timestamp</th>\n",
       "      <th>price(원/kg)</th>\n",
       "      <th>item_info</th>\n",
       "    </tr>\n",
       "  </thead>\n",
       "  <tbody>\n",
       "    <tr>\n",
       "      <th>0</th>\n",
       "      <td>2019-01-01</td>\n",
       "      <td>0.0</td>\n",
       "      <td>TG_A_J</td>\n",
       "    </tr>\n",
       "    <tr>\n",
       "      <th>1</th>\n",
       "      <td>2019-01-02</td>\n",
       "      <td>0.0</td>\n",
       "      <td>TG_A_J</td>\n",
       "    </tr>\n",
       "    <tr>\n",
       "      <th>2</th>\n",
       "      <td>2019-01-03</td>\n",
       "      <td>1728.0</td>\n",
       "      <td>TG_A_J</td>\n",
       "    </tr>\n",
       "  </tbody>\n",
       "</table>\n",
       "</div>"
      ],
      "text/plain": [
       "    timestamp  price(원/kg) item_info\n",
       "0  2019-01-01          0.0    TG_A_J\n",
       "1  2019-01-02          0.0    TG_A_J\n",
       "2  2019-01-03       1728.0    TG_A_J"
      ]
     },
     "execution_count": 39,
     "metadata": {},
     "output_type": "execute_result"
    }
   ],
   "source": [
    "train_df.head(3) "
   ]
  },
  {
   "cell_type": "code",
   "execution_count": 41,
   "id": "867b8e3d-f037-4c8f-a461-2b1ec1771995",
   "metadata": {},
   "outputs": [],
   "source": [
    "test_df[\"item_info\"] = test_df[\"item\"] + \"_\" + test_df[\"corporation\"] + \"_\" + test_df[\"location\"] "
   ]
  },
  {
   "cell_type": "code",
   "execution_count": 43,
   "id": "fd63262b-9a8a-4822-81ce-15bc79d3312e",
   "metadata": {},
   "outputs": [],
   "source": [
    "test_df.drop(columns={\"ID\", \"item\", \"corporation\", \"location\"}, inplace=True) "
   ]
  },
  {
   "cell_type": "code",
   "execution_count": 44,
   "id": "daa2c9d5-5179-41b3-a543-6888c60623ce",
   "metadata": {},
   "outputs": [
    {
     "data": {
      "text/html": [
       "<div>\n",
       "<style scoped>\n",
       "    .dataframe tbody tr th:only-of-type {\n",
       "        vertical-align: middle;\n",
       "    }\n",
       "\n",
       "    .dataframe tbody tr th {\n",
       "        vertical-align: top;\n",
       "    }\n",
       "\n",
       "    .dataframe thead th {\n",
       "        text-align: right;\n",
       "    }\n",
       "</style>\n",
       "<table border=\"1\" class=\"dataframe\">\n",
       "  <thead>\n",
       "    <tr style=\"text-align: right;\">\n",
       "      <th></th>\n",
       "      <th>timestamp</th>\n",
       "      <th>item_info</th>\n",
       "    </tr>\n",
       "  </thead>\n",
       "  <tbody>\n",
       "    <tr>\n",
       "      <th>0</th>\n",
       "      <td>2023-03-04</td>\n",
       "      <td>TG_A_J</td>\n",
       "    </tr>\n",
       "    <tr>\n",
       "      <th>1</th>\n",
       "      <td>2023-03-05</td>\n",
       "      <td>TG_A_J</td>\n",
       "    </tr>\n",
       "    <tr>\n",
       "      <th>2</th>\n",
       "      <td>2023-03-06</td>\n",
       "      <td>TG_A_J</td>\n",
       "    </tr>\n",
       "  </tbody>\n",
       "</table>\n",
       "</div>"
      ],
      "text/plain": [
       "    timestamp item_info\n",
       "0  2023-03-04    TG_A_J\n",
       "1  2023-03-05    TG_A_J\n",
       "2  2023-03-06    TG_A_J"
      ]
     },
     "execution_count": 44,
     "metadata": {},
     "output_type": "execute_result"
    }
   ],
   "source": [
    "test_df.head(3) "
   ]
  },
  {
   "cell_type": "code",
   "execution_count": 45,
   "id": "a2d42969-2bb2-4f3b-a67d-60ec84a1582a",
   "metadata": {},
   "outputs": [],
   "source": [
    "train_data = TimeSeriesDataFrame.from_data_frame(\n",
    "    train_df, \n",
    "    id_column = \"item_info\", \n",
    "    timestamp_column = \"timestamp\" \n",
    ")"
   ]
  },
  {
   "cell_type": "code",
   "execution_count": 51,
   "id": "47528878-dc48-49b5-a534-d41a8fb08e6f",
   "metadata": {},
   "outputs": [],
   "source": [
    "predictor = TimeSeriesPredictor(\n",
    "    prediction_length=28, \n",
    "    path = \"autgluon_baseline\", \n",
    "    target = \"price(원/kg)\", \n",
    "    eval_metric=\"RMSE\" \n",
    ") "
   ]
  },
  {
   "cell_type": "code",
   "execution_count": 53,
   "id": "c32340c2-4ff1-4df4-a8f7-a59919d7a56d",
   "metadata": {},
   "outputs": [
    {
     "name": "stderr",
     "output_type": "stream",
     "text": [
      "================ TimeSeriesPredictor ================\n",
      "TimeSeriesPredictor.fit() called\n",
      "Setting presets to: best_quality\n",
      "Fitting with arguments:\n",
      "{'enable_ensemble': True,\n",
      " 'evaluation_metric': 'RMSE',\n",
      " 'excluded_model_types': None,\n",
      " 'hyperparameter_tune_kwargs': {'num_trials': 3,\n",
      "                                'scheduler': 'local',\n",
      "                                'searcher': 'auto'},\n",
      " 'hyperparameters': 'best_quality',\n",
      " 'num_val_windows': 1,\n",
      " 'prediction_length': 28,\n",
      " 'random_seed': None,\n",
      " 'target': 'price(원/kg)',\n",
      " 'time_limit': 2400,\n",
      " 'verbosity': 2}\n",
      "Provided training data set with 59397 rows, 39 items (item = single time series). Average time series length is 1523.0. Data frequency is 'D'.\n",
      "=====================================================\n",
      "AutoGluon will save models to autgluon_baseline/\n",
      "AutoGluon will gauge predictive performance using evaluation metric: 'RMSE'\n",
      "\tThis metric's sign has been flipped to adhere to being 'higher is better'. The reported score can be multiplied by -1 to get the metric value.\n",
      "\n",
      "Provided dataset contains following columns:\n",
      "\ttarget:           'price(원/kg)'\n",
      "\n",
      "Starting training. Start time is 2023-11-07 15:21:21\n",
      "Models that will be trained: ['Naive', 'SeasonalNaive', 'Theta', 'AutoETS', 'RecursiveTabular', 'DeepAR', 'TemporalFusionTransformer', 'PatchTST', 'DirectTabular', 'AutoARIMA']\n",
      "Hyperparameter tuning model: Naive. Tuning model for up to 240.00s of the 2399.96s remaining.\n",
      "\t-997.0634     = Validation score (-RMSE)\n",
      "\t0.06    s     = Training runtime\n",
      "\t4.86    s     = Validation (prediction) runtime\n",
      "Hyperparameter tuning model: SeasonalNaive. Tuning model for up to 240.00s of the 2399.96s remaining.\n",
      "\t-843.9258     = Validation score (-RMSE)\n",
      "\t0.05    s     = Training runtime\n",
      "\t0.06    s     = Validation (prediction) runtime\n",
      "Hyperparameter tuning model: Theta. Tuning model for up to 240.00s of the 2399.96s remaining.\n",
      "\t-838.8347     = Validation score (-RMSE)\n",
      "\t0.05    s     = Training runtime\n",
      "\t26.31   s     = Validation (prediction) runtime\n",
      "Hyperparameter tuning model: AutoETS. Tuning model for up to 240.00s of the 2399.96s remaining.\n",
      "\t-797.0592     = Validation score (-RMSE)\n",
      "\t0.05    s     = Training runtime\n",
      "\t13.11   s     = Validation (prediction) runtime\n",
      "Hyperparameter tuning model: RecursiveTabular. Tuning model for up to 240.00s of the 2399.96s remaining.\n",
      "\t-801.7676     = Validation score (-RMSE)\n",
      "\t243.76  s     = Training runtime\n",
      "\t1.63    s     = Validation (prediction) runtime\n",
      "Hyperparameter tuning model: DeepAR. Tuning model for up to 240.00s of the 2399.96s remaining.\n"
     ]
    },
    {
     "data": {
      "application/vnd.jupyter.widget-view+json": {
       "model_id": "f7cf4a0b74124ba8920094e9f1b4fc85",
       "version_major": 2,
       "version_minor": 0
      },
      "text/plain": [
       "  0%|          | 0/3 [00:00<?, ?it/s]"
      ]
     },
     "metadata": {},
     "output_type": "display_data"
    },
    {
     "name": "stderr",
     "output_type": "stream",
     "text": [
      "\tTrained 1 models while tuning DeepAR.\n",
      "\t-777.5963     = Validation score (-RMSE)\n",
      "\t123.39  s     = Total tuning time\n",
      "Hyperparameter tuning model: TemporalFusionTransformer. Tuning model for up to 240.00s of the 2399.96s remaining.\n",
      "\t-732.1917     = Validation score (-RMSE)\n",
      "\t191.81  s     = Training runtime\n",
      "\t0.06    s     = Validation (prediction) runtime\n",
      "Hyperparameter tuning model: PatchTST. Tuning model for up to 240.00s of the 2399.96s remaining.\n",
      "\t-1152.0670    = Validation score (-RMSE)\n",
      "\t62.03   s     = Training runtime\n",
      "\t0.12    s     = Validation (prediction) runtime\n",
      "Hyperparameter tuning model: DirectTabular. Tuning model for up to 240.00s of the 2399.96s remaining.\n",
      "\t-784.4630     = Validation score (-RMSE)\n",
      "\t2.03    s     = Training runtime\n",
      "\t0.12    s     = Validation (prediction) runtime\n",
      "Hyperparameter tuning model: AutoARIMA. Tuning model for up to 240.00s of the 2399.96s remaining.\n",
      "\t-845.6888     = Validation score (-RMSE)\n",
      "\t0.05    s     = Training runtime\n",
      "\t69.59   s     = Validation (prediction) runtime\n",
      "Fitting simple weighted ensemble.\n",
      "\t-665.2239     = Validation score (-RMSE)\n",
      "\t2.73    s     = Training runtime\n",
      "\t5.21    s     = Validation (prediction) runtime\n",
      "Training complete. Models trained: ['Naive', 'SeasonalNaive', 'Theta', 'AutoETS', 'RecursiveTabular', 'DeepAR/T1', 'TemporalFusionTransformer', 'PatchTST', 'DirectTabular', 'AutoARIMA', 'WeightedEnsemble']\n",
      "Total runtime: 742.16 s\n",
      "Best model: WeightedEnsemble\n",
      "Best model score: -665.2239\n"
     ]
    },
    {
     "data": {
      "text/plain": [
       "<autogluon.timeseries.predictor.TimeSeriesPredictor at 0x7ff4d399ca60>"
      ]
     },
     "execution_count": 53,
     "metadata": {},
     "output_type": "execute_result"
    }
   ],
   "source": [
    "predictor.fit(\n",
    "    train_data, \n",
    "    presets=\"best_quality\", \n",
    "    time_limit=2400\n",
    ")"
   ]
  },
  {
   "cell_type": "code",
   "execution_count": 63,
   "id": "284b66b6-ca26-4cc6-9262-e005c13d2daa",
   "metadata": {},
   "outputs": [
    {
     "data": {
      "text/html": [
       "<div>\n",
       "<style scoped>\n",
       "    .dataframe tbody tr th:only-of-type {\n",
       "        vertical-align: middle;\n",
       "    }\n",
       "\n",
       "    .dataframe tbody tr th {\n",
       "        vertical-align: top;\n",
       "    }\n",
       "\n",
       "    .dataframe thead th {\n",
       "        text-align: right;\n",
       "    }\n",
       "</style>\n",
       "<table border=\"1\" class=\"dataframe\">\n",
       "  <thead>\n",
       "    <tr style=\"text-align: right;\">\n",
       "      <th></th>\n",
       "      <th></th>\n",
       "      <th>price(원/kg)</th>\n",
       "    </tr>\n",
       "    <tr>\n",
       "      <th>item_id</th>\n",
       "      <th>timestamp</th>\n",
       "      <th></th>\n",
       "    </tr>\n",
       "  </thead>\n",
       "  <tbody>\n",
       "    <tr>\n",
       "      <th rowspan=\"5\" valign=\"top\">TG_A_J</th>\n",
       "      <th>2019-01-01</th>\n",
       "      <td>0.0</td>\n",
       "    </tr>\n",
       "    <tr>\n",
       "      <th>2019-01-02</th>\n",
       "      <td>0.0</td>\n",
       "    </tr>\n",
       "    <tr>\n",
       "      <th>2019-01-03</th>\n",
       "      <td>1728.0</td>\n",
       "    </tr>\n",
       "    <tr>\n",
       "      <th>2019-01-04</th>\n",
       "      <td>1408.0</td>\n",
       "    </tr>\n",
       "    <tr>\n",
       "      <th>2019-01-05</th>\n",
       "      <td>1250.0</td>\n",
       "    </tr>\n",
       "    <tr>\n",
       "      <th>...</th>\n",
       "      <th>...</th>\n",
       "      <td>...</td>\n",
       "    </tr>\n",
       "    <tr>\n",
       "      <th rowspan=\"5\" valign=\"top\">RD_F_J</th>\n",
       "      <th>2023-02-27</th>\n",
       "      <td>468.0</td>\n",
       "    </tr>\n",
       "    <tr>\n",
       "      <th>2023-02-28</th>\n",
       "      <td>531.0</td>\n",
       "    </tr>\n",
       "    <tr>\n",
       "      <th>2023-03-01</th>\n",
       "      <td>574.0</td>\n",
       "    </tr>\n",
       "    <tr>\n",
       "      <th>2023-03-02</th>\n",
       "      <td>523.0</td>\n",
       "    </tr>\n",
       "    <tr>\n",
       "      <th>2023-03-03</th>\n",
       "      <td>529.0</td>\n",
       "    </tr>\n",
       "  </tbody>\n",
       "</table>\n",
       "<p>59397 rows × 1 columns</p>\n",
       "</div>"
      ],
      "text/plain": [
       "                    price(원/kg)\n",
       "item_id timestamp              \n",
       "TG_A_J  2019-01-01          0.0\n",
       "        2019-01-02          0.0\n",
       "        2019-01-03       1728.0\n",
       "        2019-01-04       1408.0\n",
       "        2019-01-05       1250.0\n",
       "...                         ...\n",
       "RD_F_J  2023-02-27        468.0\n",
       "        2023-02-28        531.0\n",
       "        2023-03-01        574.0\n",
       "        2023-03-02        523.0\n",
       "        2023-03-03        529.0\n",
       "\n",
       "[59397 rows x 1 columns]"
      ]
     },
     "execution_count": 63,
     "metadata": {},
     "output_type": "execute_result"
    }
   ],
   "source": [
    "train_data"
   ]
  },
  {
   "cell_type": "code",
   "execution_count": 64,
   "id": "18beff1c-9c22-4bc7-88c0-6336b885fa17",
   "metadata": {},
   "outputs": [
    {
     "name": "stderr",
     "output_type": "stream",
     "text": [
      "Global seed set to 123\n",
      "Model not specified in predict, will default to the model with the best validation score: WeightedEnsemble\n"
     ]
    }
   ],
   "source": [
    "predictions = predictor.predict(train_data)"
   ]
  },
  {
   "cell_type": "code",
   "execution_count": 68,
   "id": "6476d6ae-2e2c-49cd-b9b1-4a0c68a930c9",
   "metadata": {},
   "outputs": [
    {
     "data": {
      "text/html": [
       "<div>\n",
       "<style scoped>\n",
       "    .dataframe tbody tr th:only-of-type {\n",
       "        vertical-align: middle;\n",
       "    }\n",
       "\n",
       "    .dataframe tbody tr th {\n",
       "        vertical-align: top;\n",
       "    }\n",
       "\n",
       "    .dataframe thead th {\n",
       "        text-align: right;\n",
       "    }\n",
       "</style>\n",
       "<table border=\"1\" class=\"dataframe\">\n",
       "  <thead>\n",
       "    <tr style=\"text-align: right;\">\n",
       "      <th></th>\n",
       "      <th></th>\n",
       "      <th>mean</th>\n",
       "      <th>0.1</th>\n",
       "      <th>0.2</th>\n",
       "      <th>0.3</th>\n",
       "      <th>0.4</th>\n",
       "      <th>0.5</th>\n",
       "      <th>0.6</th>\n",
       "      <th>0.7</th>\n",
       "      <th>0.8</th>\n",
       "      <th>0.9</th>\n",
       "    </tr>\n",
       "    <tr>\n",
       "      <th>item_id</th>\n",
       "      <th>timestamp</th>\n",
       "      <th></th>\n",
       "      <th></th>\n",
       "      <th></th>\n",
       "      <th></th>\n",
       "      <th></th>\n",
       "      <th></th>\n",
       "      <th></th>\n",
       "      <th></th>\n",
       "      <th></th>\n",
       "      <th></th>\n",
       "    </tr>\n",
       "  </thead>\n",
       "  <tbody>\n",
       "    <tr>\n",
       "      <th rowspan=\"5\" valign=\"top\">TG_A_J</th>\n",
       "      <th>2023-03-04</th>\n",
       "      <td>3401.248829</td>\n",
       "      <td>-1665.040701</td>\n",
       "      <td>188.260663</td>\n",
       "      <td>1432.684071</td>\n",
       "      <td>2475.849004</td>\n",
       "      <td>3407.045033</td>\n",
       "      <td>4353.034502</td>\n",
       "      <td>5344.710361</td>\n",
       "      <td>6555.831583</td>\n",
       "      <td>8230.938173</td>\n",
       "    </tr>\n",
       "    <tr>\n",
       "      <th>2023-03-05</th>\n",
       "      <td>480.910737</td>\n",
       "      <td>-4166.966400</td>\n",
       "      <td>-2566.782067</td>\n",
       "      <td>-1423.078622</td>\n",
       "      <td>-432.857925</td>\n",
       "      <td>483.094244</td>\n",
       "      <td>1400.508371</td>\n",
       "      <td>2386.235733</td>\n",
       "      <td>3537.077301</td>\n",
       "      <td>5148.166860</td>\n",
       "    </tr>\n",
       "    <tr>\n",
       "      <th>2023-03-06</th>\n",
       "      <td>3231.283135</td>\n",
       "      <td>-2104.408120</td>\n",
       "      <td>-158.107623</td>\n",
       "      <td>1127.442743</td>\n",
       "      <td>2203.394320</td>\n",
       "      <td>3205.596246</td>\n",
       "      <td>4228.483946</td>\n",
       "      <td>5312.003089</td>\n",
       "      <td>6619.319201</td>\n",
       "      <td>8438.796933</td>\n",
       "    </tr>\n",
       "    <tr>\n",
       "      <th>2023-03-07</th>\n",
       "      <td>2961.149189</td>\n",
       "      <td>-2531.061061</td>\n",
       "      <td>-544.699288</td>\n",
       "      <td>775.240511</td>\n",
       "      <td>1911.259862</td>\n",
       "      <td>2965.179401</td>\n",
       "      <td>4009.306094</td>\n",
       "      <td>5122.843312</td>\n",
       "      <td>6471.572035</td>\n",
       "      <td>8325.179724</td>\n",
       "    </tr>\n",
       "    <tr>\n",
       "      <th>2023-03-08</th>\n",
       "      <td>3191.016740</td>\n",
       "      <td>-2382.471484</td>\n",
       "      <td>-334.153259</td>\n",
       "      <td>1045.168487</td>\n",
       "      <td>2197.702970</td>\n",
       "      <td>3251.234574</td>\n",
       "      <td>4339.220263</td>\n",
       "      <td>5473.503160</td>\n",
       "      <td>6832.066422</td>\n",
       "      <td>8696.824821</td>\n",
       "    </tr>\n",
       "  </tbody>\n",
       "</table>\n",
       "</div>"
      ],
      "text/plain": [
       "                           mean          0.1          0.2          0.3  \\\n",
       "item_id timestamp                                                        \n",
       "TG_A_J  2023-03-04  3401.248829 -1665.040701   188.260663  1432.684071   \n",
       "        2023-03-05   480.910737 -4166.966400 -2566.782067 -1423.078622   \n",
       "        2023-03-06  3231.283135 -2104.408120  -158.107623  1127.442743   \n",
       "        2023-03-07  2961.149189 -2531.061061  -544.699288   775.240511   \n",
       "        2023-03-08  3191.016740 -2382.471484  -334.153259  1045.168487   \n",
       "\n",
       "                            0.4          0.5          0.6          0.7  \\\n",
       "item_id timestamp                                                        \n",
       "TG_A_J  2023-03-04  2475.849004  3407.045033  4353.034502  5344.710361   \n",
       "        2023-03-05  -432.857925   483.094244  1400.508371  2386.235733   \n",
       "        2023-03-06  2203.394320  3205.596246  4228.483946  5312.003089   \n",
       "        2023-03-07  1911.259862  2965.179401  4009.306094  5122.843312   \n",
       "        2023-03-08  2197.702970  3251.234574  4339.220263  5473.503160   \n",
       "\n",
       "                            0.8          0.9  \n",
       "item_id timestamp                             \n",
       "TG_A_J  2023-03-04  6555.831583  8230.938173  \n",
       "        2023-03-05  3537.077301  5148.166860  \n",
       "        2023-03-06  6619.319201  8438.796933  \n",
       "        2023-03-07  6471.572035  8325.179724  \n",
       "        2023-03-08  6832.066422  8696.824821  "
      ]
     },
     "execution_count": 68,
     "metadata": {},
     "output_type": "execute_result"
    }
   ],
   "source": [
    "predictions.head()"
   ]
  },
  {
   "cell_type": "code",
   "execution_count": 69,
   "id": "cf45c695-5300-48f2-b689-926edd41666e",
   "metadata": {},
   "outputs": [
    {
     "data": {
      "text/plain": [
       "(1092, 10)"
      ]
     },
     "execution_count": 69,
     "metadata": {},
     "output_type": "execute_result"
    }
   ],
   "source": [
    "predictions.shape"
   ]
  },
  {
   "cell_type": "code",
   "execution_count": 70,
   "id": "e838a5fb-1cf5-4c2c-bf95-6c4abe8fad5c",
   "metadata": {},
   "outputs": [],
   "source": [
    "submission = pd.read_csv(\"sample_submission.csv\") "
   ]
  },
  {
   "cell_type": "code",
   "execution_count": 73,
   "id": "dd4ea6ea-4b97-48c8-92cf-2601a23747be",
   "metadata": {},
   "outputs": [
    {
     "data": {
      "text/plain": [
       "(1092,)"
      ]
     },
     "execution_count": 73,
     "metadata": {},
     "output_type": "execute_result"
    }
   ],
   "source": [
    "mean_predictions = predictions[\"mean\"].values \n",
    "mean_predictions.shape"
   ]
  },
  {
   "cell_type": "code",
   "execution_count": 75,
   "id": "3116468a-6172-458a-8bf8-dbb5d537c05b",
   "metadata": {},
   "outputs": [],
   "source": [
    "submission[\"answer\"] = mean_predictions"
   ]
  },
  {
   "cell_type": "code",
   "execution_count": 76,
   "id": "f26d97ca-5d84-4b9a-bfdb-52f2c1fdec6d",
   "metadata": {},
   "outputs": [
    {
     "data": {
      "text/html": [
       "<div>\n",
       "<style scoped>\n",
       "    .dataframe tbody tr th:only-of-type {\n",
       "        vertical-align: middle;\n",
       "    }\n",
       "\n",
       "    .dataframe tbody tr th {\n",
       "        vertical-align: top;\n",
       "    }\n",
       "\n",
       "    .dataframe thead th {\n",
       "        text-align: right;\n",
       "    }\n",
       "</style>\n",
       "<table border=\"1\" class=\"dataframe\">\n",
       "  <thead>\n",
       "    <tr style=\"text-align: right;\">\n",
       "      <th></th>\n",
       "      <th>ID</th>\n",
       "      <th>answer</th>\n",
       "    </tr>\n",
       "  </thead>\n",
       "  <tbody>\n",
       "    <tr>\n",
       "      <th>0</th>\n",
       "      <td>TG_A_J_20230304</td>\n",
       "      <td>3401.248829</td>\n",
       "    </tr>\n",
       "    <tr>\n",
       "      <th>1</th>\n",
       "      <td>TG_A_J_20230305</td>\n",
       "      <td>480.910737</td>\n",
       "    </tr>\n",
       "    <tr>\n",
       "      <th>2</th>\n",
       "      <td>TG_A_J_20230306</td>\n",
       "      <td>3231.283135</td>\n",
       "    </tr>\n",
       "    <tr>\n",
       "      <th>3</th>\n",
       "      <td>TG_A_J_20230307</td>\n",
       "      <td>2961.149189</td>\n",
       "    </tr>\n",
       "    <tr>\n",
       "      <th>4</th>\n",
       "      <td>TG_A_J_20230308</td>\n",
       "      <td>3191.016740</td>\n",
       "    </tr>\n",
       "    <tr>\n",
       "      <th>...</th>\n",
       "      <td>...</td>\n",
       "      <td>...</td>\n",
       "    </tr>\n",
       "    <tr>\n",
       "      <th>1087</th>\n",
       "      <td>RD_F_J_20230327</td>\n",
       "      <td>540.214996</td>\n",
       "    </tr>\n",
       "    <tr>\n",
       "      <th>1088</th>\n",
       "      <td>RD_F_J_20230328</td>\n",
       "      <td>548.239436</td>\n",
       "    </tr>\n",
       "    <tr>\n",
       "      <th>1089</th>\n",
       "      <td>RD_F_J_20230329</td>\n",
       "      <td>555.573222</td>\n",
       "    </tr>\n",
       "    <tr>\n",
       "      <th>1090</th>\n",
       "      <td>RD_F_J_20230330</td>\n",
       "      <td>551.135088</td>\n",
       "    </tr>\n",
       "    <tr>\n",
       "      <th>1091</th>\n",
       "      <td>RD_F_J_20230331</td>\n",
       "      <td>550.568492</td>\n",
       "    </tr>\n",
       "  </tbody>\n",
       "</table>\n",
       "<p>1092 rows × 2 columns</p>\n",
       "</div>"
      ],
      "text/plain": [
       "                   ID       answer\n",
       "0     TG_A_J_20230304  3401.248829\n",
       "1     TG_A_J_20230305   480.910737\n",
       "2     TG_A_J_20230306  3231.283135\n",
       "3     TG_A_J_20230307  2961.149189\n",
       "4     TG_A_J_20230308  3191.016740\n",
       "...               ...          ...\n",
       "1087  RD_F_J_20230327   540.214996\n",
       "1088  RD_F_J_20230328   548.239436\n",
       "1089  RD_F_J_20230329   555.573222\n",
       "1090  RD_F_J_20230330   551.135088\n",
       "1091  RD_F_J_20230331   550.568492\n",
       "\n",
       "[1092 rows x 2 columns]"
      ]
     },
     "execution_count": 76,
     "metadata": {},
     "output_type": "execute_result"
    }
   ],
   "source": [
    "submission"
   ]
  },
  {
   "cell_type": "code",
   "execution_count": 77,
   "id": "269feb17-ad13-498b-a0cb-fcab2d37b389",
   "metadata": {},
   "outputs": [],
   "source": [
    "submission.to_csv(\"autogluon_baseline.csv\", index=False)"
   ]
  },
  {
   "cell_type": "code",
   "execution_count": null,
   "id": "c03f3226-fcba-4f67-bd97-819bb464919d",
   "metadata": {},
   "outputs": [],
   "source": []
  }
 ],
 "metadata": {
  "kernelspec": {
   "display_name": "Python 3 (ipykernel)",
   "language": "python",
   "name": "python3"
  },
  "language_info": {
   "codemirror_mode": {
    "name": "ipython",
    "version": 3
   },
   "file_extension": ".py",
   "mimetype": "text/x-python",
   "name": "python",
   "nbconvert_exporter": "python",
   "pygments_lexer": "ipython3",
   "version": "3.9.16"
  }
 },
 "nbformat": 4,
 "nbformat_minor": 5
}
